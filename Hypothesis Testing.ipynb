{
 "cells": [
  {
   "cell_type": "code",
   "execution_count": 1,
   "id": "72465339",
   "metadata": {},
   "outputs": [],
   "source": [
    "import pandas as pd\n",
    "import numpy as  np\n",
    "from scipy import stats\n",
    "import seaborn as sns"
   ]
  },
  {
   "cell_type": "markdown",
   "id": "9c9eb586",
   "metadata": {},
   "source": [
    "## Question 1\n",
    "\n",
    "A F&B manager wants to determine whether there is any significant difference in the diameter of the cutlet between two units. A randomly selected sample of cutlets was collected from both units and measured? Analyze the data and draw inferences at 5% significance level. Please state the assumptions and tests that you carried out to check validity of the assumptions.\n",
    "\n",
    "#### we use two sample two tail T test\n",
    "\n",
    "- Ho:diameter of cutlets are equal\n",
    "- Ha: diameter of cutlets are unequal"
   ]
  },
  {
   "cell_type": "code",
   "execution_count": 2,
   "id": "eea9751f",
   "metadata": {},
   "outputs": [
    {
     "name": "stdout",
     "output_type": "stream",
     "text": [
      "Data\n",
      "\n",
      "   Unit A  Unit B\n",
      "0  6.8090  6.7703\n",
      "1  6.4376  7.5093\n",
      "2  6.9157  6.7300\n",
      "3  7.3012  6.7878\n",
      "4  7.4488  7.1522 \n",
      "\n",
      "statistics 0.7228688704678063\n",
      "p-value 0.4722394724599501\n",
      "\n",
      "failed to reject null hypothesis\n",
      " final outcome: diameter of cutlets are equal\n",
      "-------------------------------------------------------------------\n"
     ]
    }
   ],
   "source": [
    "# use two sample test two tail\n",
    "\n",
    "df1 = pd.read_csv('3.Cutlets.csv')\n",
    "print('Data\\n')\n",
    "print(df1.head(5),'\\n')\n",
    "\n",
    "s,p = stats.ttest_ind(df1['Unit A'],df1['Unit B'])\n",
    "print(f'statistics {s}')\n",
    "print(f'p-value {p}\\n')\n",
    "\n",
    "if p < 0.05:\n",
    "    print(f'reject null hypothesis\\n final outcome: diameter of cutlets are unequal')\n",
    "else:\n",
    "    print(f'failed to reject null hypothesis\\n final outcome: diameter of cutlets are equal')\n",
    "print('-------------------------------------------------------------------')"
   ]
  },
  {
   "cell_type": "markdown",
   "id": "d06a4f17",
   "metadata": {},
   "source": [
    "## Question 2\n",
    "\n",
    "A hospital wants to determine whether there is any difference in the average Turn Around Time (TAT) of reports of the laboratories on their preferred list. They collected a random sample and recorded TAT for reports of 4 laboratories. TAT is defined as sample collected to report dispatch.Analyze the data and determine whether there is any difference in average TAT among the different laboratories at 5% significance level.\n",
    "\n",
    "#### we use anova test\n",
    "\n",
    "- Ho = all samples are equal\n",
    "- Ha - all samples are not equal"
   ]
  },
  {
   "cell_type": "code",
   "execution_count": 3,
   "id": "52cf1b9d",
   "metadata": {},
   "outputs": [
    {
     "name": "stdout",
     "output_type": "stream",
     "text": [
      "Data\n",
      "\n",
      "   Laboratory 1  Laboratory 2  Laboratory 3  Laboratory 4\n",
      "0        185.35        165.53        176.70        166.13\n",
      "1        170.49        185.91        198.45        160.79\n",
      "2        192.77        194.92        201.23        185.18\n",
      "3        177.33        183.00        199.61        176.42\n",
      "4        193.41        169.57        204.63        152.60 \n",
      "\n",
      "f- statistics 118.70421654401437\n",
      "p-value 2.1156708949992414e-57\n",
      "\n",
      "Reject null hypothesis \n",
      " final outcome:All aamples are not equal \n",
      "\n",
      "-------------------------------------------------------------------\n"
     ]
    }
   ],
   "source": [
    "# use anova \n",
    "df2= pd.read_csv('3.LabTAT.csv')\n",
    "print('Data\\n')\n",
    "print(df2.head(), '\\n')\n",
    "\n",
    "f,p = stats.f_oneway(df2.iloc[:,0],df2.iloc[:,1],df2.iloc[:,2],df2.iloc[:,3])\n",
    "print(f'f- statistics {f}')\n",
    "print(f'p-value {p}\\n')\n",
    "\n",
    "if p < 0.05:\n",
    "    print('Reject null hypothesis \\n final outcome:All aamples are not equal \\n')\n",
    "else:\n",
    "    print('Failed to Reject null hypothesis\\n final outcome: All samples are equal')\n",
    "print('-------------------------------------------------------------------')"
   ]
  },
  {
   "attachments": {
    "image-2.png": {
     "image/png": "[encoded data removed]"
    },
    "image.png": {
     "image/png": "[encoded data removed]"
    }
   },
   "cell_type": "markdown",
   "id": "4dd9f706",
   "metadata": {},
   "source": [
    "## Question 3\n",
    "\n",
    "Sales of products in four different regions is tabulated for males and females. Find if male-female buyer rations are similar across regions![image-2.png](attachment:image-2.png)\n",
    "\n",
    "![image.png](attachment:image.png)\n",
    "\n",
    "#### we use Chi square test\n",
    "\n",
    "- Ho: All proportions are equal\n",
    "- Ha: All proportions are not equal"
   ]
  },
  {
   "cell_type": "code",
   "execution_count": 4,
   "id": "d58dfce9",
   "metadata": {},
   "outputs": [
    {
     "name": "stdout",
     "output_type": "stream",
     "text": [
      "                 East  West  North  South\n",
      "Observed Values                          \n",
      "Males              50   142    131     70\n",
      "Females           435  1523   1356    750 \n",
      "\n",
      "chi: 1.595945538661058\n",
      "p value: 0.6603094907091882\n",
      "dof: 3\n",
      "exp: [[  42.76531299  146.81287862  131.11756787   72.30424052]\n",
      " [ 442.23468701 1518.18712138 1355.88243213  747.69575948]]\n",
      "\n",
      "Failed to Reject null hypothesis\n",
      " final outcome: All propotions  are equal\n",
      "-------------------------------------------------------------------\n"
     ]
    }
   ],
   "source": [
    " #use chi square\n",
    "df3 = pd.read_csv('3.BuyerRatio.csv', index_col=0)\n",
    "print(df3,'\\n')\n",
    "\n",
    "chi,p,dof,exp = stats.chi2_contingency(df3)\n",
    "print(f'chi: {chi}')\n",
    "print(f'p value: {p}')\n",
    "print(f'dof: {dof}')\n",
    "print(f'exp: {exp}\\n')\n",
    "\n",
    "if p < 0.05:\n",
    "    print('Reject null hypothesis \\n final outcome:All propotions are not equal \\n')\n",
    "else:\n",
    "    print('Failed to Reject null hypothesis\\n final outcome: All propotions  are equal')\n",
    "print('-------------------------------------------------------------------')"
   ]
  },
  {
   "cell_type": "markdown",
   "id": "c6bb2d81",
   "metadata": {},
   "source": [
    "## Question 4\n",
    "\n",
    "TeleCall uses 4 centers around the globe to process customer order forms. They audit a certain %  of the customer order forms. Any error in order form renders it defective and has to be reworked before processing.  The manager wants to check whether the defective %  varies by centre. Please analyze the data at 5% significance level and help the manager draw appropriate inferences\n",
    "\n",
    "\n",
    "#### we use Chi square test\n",
    "\n",
    "- Ho: defective percentage does not varies by centre\n",
    "- Ha: defective percentage varies by centre\n"
   ]
  },
  {
   "cell_type": "code",
   "execution_count": 5,
   "id": "6723e53b",
   "metadata": {},
   "outputs": [
    {
     "data": {
      "text/html": [
       "<div>\n",
       "<style scoped>\n",
       "    .dataframe tbody tr th:only-of-type {\n",
       "        vertical-align: middle;\n",
       "    }\n",
       "\n",
       "    .dataframe tbody tr th {\n",
       "        vertical-align: top;\n",
       "    }\n",
       "\n",
       "    .dataframe thead th {\n",
       "        text-align: right;\n",
       "    }\n",
       "</style>\n",
       "<table border=\"1\" class=\"dataframe\">\n",
       "  <thead>\n",
       "    <tr style=\"text-align: right;\">\n",
       "      <th></th>\n",
       "      <th>Phillippines</th>\n",
       "      <th>Indonesia</th>\n",
       "      <th>Malta</th>\n",
       "      <th>India</th>\n",
       "    </tr>\n",
       "  </thead>\n",
       "  <tbody>\n",
       "    <tr>\n",
       "      <th>0</th>\n",
       "      <td>Error Free</td>\n",
       "      <td>Error Free</td>\n",
       "      <td>Defective</td>\n",
       "      <td>Error Free</td>\n",
       "    </tr>\n",
       "    <tr>\n",
       "      <th>1</th>\n",
       "      <td>Error Free</td>\n",
       "      <td>Error Free</td>\n",
       "      <td>Error Free</td>\n",
       "      <td>Defective</td>\n",
       "    </tr>\n",
       "    <tr>\n",
       "      <th>2</th>\n",
       "      <td>Error Free</td>\n",
       "      <td>Defective</td>\n",
       "      <td>Defective</td>\n",
       "      <td>Error Free</td>\n",
       "    </tr>\n",
       "    <tr>\n",
       "      <th>3</th>\n",
       "      <td>Error Free</td>\n",
       "      <td>Error Free</td>\n",
       "      <td>Error Free</td>\n",
       "      <td>Error Free</td>\n",
       "    </tr>\n",
       "    <tr>\n",
       "      <th>4</th>\n",
       "      <td>Error Free</td>\n",
       "      <td>Error Free</td>\n",
       "      <td>Defective</td>\n",
       "      <td>Error Free</td>\n",
       "    </tr>\n",
       "    <tr>\n",
       "      <th>...</th>\n",
       "      <td>...</td>\n",
       "      <td>...</td>\n",
       "      <td>...</td>\n",
       "      <td>...</td>\n",
       "    </tr>\n",
       "    <tr>\n",
       "      <th>295</th>\n",
       "      <td>Error Free</td>\n",
       "      <td>Error Free</td>\n",
       "      <td>Error Free</td>\n",
       "      <td>Error Free</td>\n",
       "    </tr>\n",
       "    <tr>\n",
       "      <th>296</th>\n",
       "      <td>Error Free</td>\n",
       "      <td>Error Free</td>\n",
       "      <td>Error Free</td>\n",
       "      <td>Error Free</td>\n",
       "    </tr>\n",
       "    <tr>\n",
       "      <th>297</th>\n",
       "      <td>Error Free</td>\n",
       "      <td>Error Free</td>\n",
       "      <td>Defective</td>\n",
       "      <td>Error Free</td>\n",
       "    </tr>\n",
       "    <tr>\n",
       "      <th>298</th>\n",
       "      <td>Error Free</td>\n",
       "      <td>Error Free</td>\n",
       "      <td>Error Free</td>\n",
       "      <td>Error Free</td>\n",
       "    </tr>\n",
       "    <tr>\n",
       "      <th>299</th>\n",
       "      <td>Error Free</td>\n",
       "      <td>Defective</td>\n",
       "      <td>Defective</td>\n",
       "      <td>Error Free</td>\n",
       "    </tr>\n",
       "  </tbody>\n",
       "</table>\n",
       "<p>300 rows × 4 columns</p>\n",
       "</div>"
      ],
      "text/plain": [
       "    Phillippines   Indonesia       Malta       India\n",
       "0     Error Free  Error Free   Defective  Error Free\n",
       "1     Error Free  Error Free  Error Free   Defective\n",
       "2     Error Free   Defective   Defective  Error Free\n",
       "3     Error Free  Error Free  Error Free  Error Free\n",
       "4     Error Free  Error Free   Defective  Error Free\n",
       "..           ...         ...         ...         ...\n",
       "295   Error Free  Error Free  Error Free  Error Free\n",
       "296   Error Free  Error Free  Error Free  Error Free\n",
       "297   Error Free  Error Free   Defective  Error Free\n",
       "298   Error Free  Error Free  Error Free  Error Free\n",
       "299   Error Free   Defective   Defective  Error Free\n",
       "\n",
       "[300 rows x 4 columns]"
      ]
     },
     "execution_count": 5,
     "metadata": {},
     "output_type": "execute_result"
    }
   ],
   "source": [
    "df4 = pd.read_csv('3.Costomer+OrderForm.csv')\n",
    "df4"
   ]
  },
  {
   "cell_type": "code",
   "execution_count": 6,
   "id": "d93db04a",
   "metadata": {},
   "outputs": [
    {
     "name": "stdout",
     "output_type": "stream",
     "text": [
      "chi: 3.1001395592512266\n",
      "p value: 0.6845505149379718\n",
      "dof: 5\n",
      "exp: [[1.93333333e-01 1.74000000e+00 8.70000000e-01 2.12666667e+00\n",
      "  2.12666667e+00 2.19433333e+01]\n",
      " [1.80666667e+00 1.62600000e+01 8.13000000e+00 1.98733333e+01\n",
      "  1.98733333e+01 2.05056667e+02]]\n",
      "\n",
      "Failed to Reject null hypothesis\n",
      " final outcome: defective percentage does not varies by centre\n"
     ]
    }
   ],
   "source": [
    "cross_table = pd.crosstab(index=df4['Phillippines'], columns=[df4['India'], df4['Malta'], df4['Indonesia']])\n",
    "chi,p,dof,exp = stats.chi2_contingency(cross_table)\n",
    "print(f'chi: {chi}')\n",
    "print(f'p value: {p}')\n",
    "print(f'dof: {dof}')\n",
    "print(f'exp: {exp}\\n')\n",
    "\n",
    "if p < 0.05:\n",
    "    print('Reject null hypothesis \\n final outcome: defective percentage varies by centre')\n",
    "else:\n",
    "    print('Failed to Reject null hypothesis\\n final outcome: defective percentage does not varies by centre')"
   ]
  }
 ],
 "metadata": {
  "kernelspec": {
   "display_name": "Python 3 (ipykernel)",
   "language": "python",
   "name": "python3"
  },
  "language_info": {
   "codemirror_mode": {
    "name": "ipython",
    "version": 3
   },
   "file_extension": ".py",
   "mimetype": "text/x-python",
   "name": "python",
   "nbconvert_exporter": "python",
   "pygments_lexer": "ipython3",
   "version": "3.11.5"
  }
 },
 "nbformat": 4,
 "nbformat_minor": 5
}
