{
 "cells": [
  {
   "cell_type": "code",
   "execution_count": 6,
   "id": "60ee6c1a",
   "metadata": {},
   "outputs": [],
   "source": [
    "from scipy import stats\n",
    "import numpy as np"
   ]
  },
  {
   "cell_type": "markdown",
   "id": "572fb634",
   "metadata": {},
   "source": [
    "## Question 1"
   ]
  },
  {
   "cell_type": "code",
   "execution_count": 13,
   "id": "7a700fb5",
   "metadata": {},
   "outputs": [
    {
     "data": {
      "text/plain": [
       "0.26598552904870054"
      ]
     },
     "execution_count": 13,
     "metadata": {},
     "output_type": "execute_result"
    }
   ],
   "source": [
    "mean = 45\n",
    "sd = 8\n",
    "time = 50 # we substract 10 mins from total time as the work begins 110 mins after dropoff\n",
    "z = (time-mean)/sd\n",
    "z\n",
    "p = 1 - stats.norm.cdf(z)\n",
    "p"
   ]
  },
  {
   "cell_type": "markdown",
   "id": "e0feeee2",
   "metadata": {},
   "source": [
    "## Question 2"
   ]
  },
  {
   "cell_type": "code",
   "execution_count": 24,
   "id": "8818c16d",
   "metadata": {},
   "outputs": [
    {
     "name": "stdout",
     "output_type": "stream",
     "text": [
      "probablility of employee between age 38 and 44 is 0.3413447460685429\n",
      "Probablility of employee older than age 44: 0.15865525393145707\n"
     ]
    }
   ],
   "source": [
    "mean = 38\n",
    "sd = 6\n",
    "\n",
    "# for employee older than 44\n",
    "z44 = (44-38)/6\n",
    "# employee age between 38 and 44\n",
    "z38 = (38-38)/6\n",
    "print(f'probablility of employee between age 38 and 44 is {stats.norm.cdf(z44) - stats.norm.cdf(z38)}')\n",
    "print(f'Probablility of employee older than age 44: {1 - stats.norm.cdf(z44)}')"
   ]
  },
  {
   "cell_type": "markdown",
   "id": "46b57a8a",
   "metadata": {},
   "source": [
    "## Question 4"
   ]
  },
  {
   "cell_type": "code",
   "execution_count": 26,
   "id": "9bb8e9db",
   "metadata": {},
   "outputs": [
    {
     "data": {
      "text/plain": [
       "2.5758293035489004"
      ]
     },
     "execution_count": 26,
     "metadata": {},
     "output_type": "execute_result"
    }
   ],
   "source": [
    "stats.norm.ppf(0.995)"
   ]
  },
  {
   "cell_type": "code",
   "execution_count": 32,
   "id": "54967b0e",
   "metadata": {},
   "outputs": [
    {
     "name": "stdout",
     "output_type": "stream",
     "text": [
      "lower value 48.6 - upper value 151.4\n"
     ]
    }
   ],
   "source": [
    "m = 100\n",
    "s = 20\n",
    "#p = 0.99\n",
    "#z = 2.57\n",
    "upper_limit = 2.57\n",
    "lower_limit = -2.57\n",
    "print(f'lower value {m+lower_limit*s} - upper value {m+upper_limit*s}')"
   ]
  },
  {
   "cell_type": "code",
   "execution_count": null,
   "id": "7228600a",
   "metadata": {},
   "outputs": [],
   "source": [
    "mean1 = 5\n",
    "sd1 = 32\n",
    "mean2 = 7\n",
    "sd2 = 42\n",
    "rs = 45\n",
    "\n",
    "#p = 0.95\n",
    "z = 1.96\n",
    "\n",
    "# for"
   ]
  },
  {
   "cell_type": "markdown",
   "id": "ea5bceb8",
   "metadata": {},
   "source": [
    "# Question 5"
   ]
  },
  {
   "cell_type": "code",
   "execution_count": 10,
   "id": "4695f521",
   "metadata": {},
   "outputs": [
    {
     "name": "stdout",
     "output_type": "stream",
     "text": [
      "The 95% confidence interval for annual profit in Rupees is 99.01 Rs, 980.99 Rs\n"
     ]
    }
   ],
   "source": [
    "# A\n",
    "\n",
    "import scipy.stats as stats\n",
    "\n",
    "# profit 1\n",
    "mean_1 = 5\n",
    "std_1 = 3\n",
    "\n",
    "#profit 2\n",
    "mean_2 = 7\n",
    "std_2 = 4\n",
    "\n",
    "\n",
    "dollor_rate = 45\n",
    "\n",
    "# total\n",
    "mean_total_profit = mean_1 + mean_2\n",
    "std_dev_total_profit = (std_1**2 + std_2**2)**0.5\n",
    "\n",
    "# 2.5th and 97.5th percentiles\n",
    "lower_percentile = stats.norm.ppf(0.025, loc=mean_total_profit, scale=std_dev_total_profit)\n",
    "upper_percentile = stats.norm.ppf(0.975, loc=mean_total_profit, scale=std_dev_total_profit)\n",
    "\n",
    "# percentiles to Rupees\n",
    "lower_rupees = lower_percentile * dollor_rate\n",
    "upper_rupees = upper_percentile * dollor_rate\n",
    "\n",
    "print(f\"The 95% confidence interval for annual profit in Rupees is {lower_rupees:.2f} Rs, {upper_rupees:.2f} Rs\")\n"
   ]
  },
  {
   "cell_type": "code",
   "execution_count": 11,
   "id": "00b48378",
   "metadata": {},
   "outputs": [
    {
     "data": {
      "text/plain": [
       "169.90793393591858"
      ]
     },
     "execution_count": 11,
     "metadata": {},
     "output_type": "execute_result"
    }
   ],
   "source": [
    "# B\n",
    "# 5 percentile * dollor rate\n",
    "(stats.norm.ppf(0.05, loc=mean_total_profit, scale=std_dev_total_profit))* dollor_rate"
   ]
  },
  {
   "cell_type": "code",
   "execution_count": 14,
   "id": "7f951696",
   "metadata": {},
   "outputs": [
    {
     "name": "stdout",
     "output_type": "stream",
     "text": [
      "Division 1 has a larger probability of making a loss.\n"
     ]
    }
   ],
   "source": [
    "# C\n",
    "\n",
    "loss_div1 = stats.norm.cdf(0, loc=mean_1, scale=std_1)\n",
    "loss_div2 = stats.norm.cdf(0, loc=mean_2, scale=std_2)\n",
    "\n",
    "if loss_div1 > loss_div2:\n",
    "    print(\"Division 1 has a larger probability of making a loss.\")\n",
    "elif loss_div2 > loss_div1:\n",
    "    print(\"Division 2 has a larger probability of making a loss.\")\n",
    "else:\n",
    "    print(\"Both divisions have the same probability of making a loss.\")"
   ]
  },
  {
   "cell_type": "code",
   "execution_count": null,
   "id": "75bdf643",
   "metadata": {},
   "outputs": [],
   "source": []
  }
 ],
 "metadata": {
  "kernelspec": {
   "display_name": "Python 3 (ipykernel)",
   "language": "python",
   "name": "python3"
  },
  "language_info": {
   "codemirror_mode": {
    "name": "ipython",
    "version": 3
   },
   "file_extension": ".py",
   "mimetype": "text/x-python",
   "name": "python",
   "nbconvert_exporter": "python",
   "pygments_lexer": "ipython3",
   "version": "3.10.9"
  }
 },
 "nbformat": 4,
 "nbformat_minor": 5
}
